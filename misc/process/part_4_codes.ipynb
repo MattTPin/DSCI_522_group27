{
 "cells": [
  {
   "cell_type": "code",
   "execution_count": 1,
   "metadata": {},
   "outputs": [],
   "source": [
    "import os"
   ]
  },
  {
   "cell_type": "code",
   "execution_count": 2,
   "metadata": {},
   "outputs": [],
   "source": [
    "from src.download_data import download_data\n",
    "import pandas as pd\n",
    "import numpy as np\n",
    "from sklearn.model_selection import train_test_split\n",
    "import altair as alt\n",
    "from sklearn.model_selection import train_test_split, cross_val_score, cross_validate, RandomizedSearchCV\n",
    "from sklearn.ensemble import RandomForestRegressor\n",
    "from sklearn.preprocessing import StandardScaler\n",
    "from sklearn.linear_model import Ridge\n",
    "from sklearn.dummy import DummyRegressor\n",
    "from sklearn.pipeline import make_pipeline, Pipeline\n",
    "from sklearn.compose import ColumnTransformer"
   ]
  },
  {
   "cell_type": "code",
   "execution_count": 3,
   "metadata": {},
   "outputs": [],
   "source": [
    "download_data(\"data\", \"raw_data.csv\")\n",
    "white_wine_df = pd.read_csv(\"data/raw_data.csv\", index_col = 0)"
   ]
  },
  {
   "cell_type": "markdown",
   "metadata": {},
   "source": [
    "# Data splitting"
   ]
  },
  {
   "cell_type": "code",
   "execution_count": 4,
   "metadata": {},
   "outputs": [],
   "source": [
    "train_df, test_df = train_test_split(white_wine_df, test_size=0.25, random_state=123)\n",
    "\n",
    "X_train = train_df.drop(columns=['quality'])\n",
    "y_train = train_df['quality']\n",
    "\n",
    "X_test = test_df.drop(columns=['quality'])\n",
    "y_test = test_df['quality']"
   ]
  },
  {
   "cell_type": "markdown",
   "metadata": {},
   "source": [
    "# Preprocessing and pipeline"
   ]
  },
  {
   "cell_type": "code",
   "execution_count": 5,
   "metadata": {},
   "outputs": [],
   "source": [
    "numeric_features = ['fixed acidity', 'volatile acidity', 'citric acid', 'residual sugar', 'chlorides',\n",
    "                    'free sulfur dioxide', 'total sulfur dioxide', 'density', 'pH', 'sulphates', 'alcohol']\n",
    "\n",
    "numeric_transformer = make_pipeline(StandardScaler())\n",
    "\n",
    "preprocessor = ColumnTransformer(\n",
    "    transformers=[\n",
    "        (\"num\", numeric_transformer, numeric_features),\n",
    "    ]\n",
    ")"
   ]
  },
  {
   "cell_type": "markdown",
   "metadata": {},
   "source": [
    "# Cross-validation on different models"
   ]
  },
  {
   "cell_type": "code",
   "execution_count": 6,
   "metadata": {},
   "outputs": [],
   "source": [
    "results_dict = {}"
   ]
  },
  {
   "cell_type": "code",
   "execution_count": 7,
   "metadata": {},
   "outputs": [],
   "source": [
    "models = {\n",
    "     \n",
    "    \"dummyregressor\": DummyRegressor(),\n",
    "    \"ridge\": Ridge(),\n",
    "    \"randomforest\": RandomForestRegressor(),\n",
    "\n",
    "}\n",
    "\n",
    "scoring={\n",
    "        \"neg_mean_squared_error\": \"neg_mean_squared_error\",\n",
    "        \"neg_root_mean_square\": \"neg_root_mean_squared_error\",\n",
    "        \"neg_mean_absolute_error\": \"neg_mean_absolute_error\",\n",
    "        \"r2\": \"r2\"\n",
    "     }\n",
    "\n",
    "for model_name, model in models.items():\n",
    "    pipe = make_pipeline(preprocessor, model)\n",
    "    scores = cross_validate(pipe, X_train, y_train, return_train_score= True, scoring = scoring)\n",
    "    scores_df = pd.DataFrame(scores).mean()\n",
    "    results_dict[model_name] = scores_df"
   ]
  },
  {
   "cell_type": "code",
   "execution_count": 8,
   "metadata": {},
   "outputs": [
    {
     "data": {
      "text/html": [
       "<div>\n",
       "<style scoped>\n",
       "    .dataframe tbody tr th:only-of-type {\n",
       "        vertical-align: middle;\n",
       "    }\n",
       "\n",
       "    .dataframe tbody tr th {\n",
       "        vertical-align: top;\n",
       "    }\n",
       "\n",
       "    .dataframe thead th {\n",
       "        text-align: right;\n",
       "    }\n",
       "</style>\n",
       "<table border=\"1\" class=\"dataframe\">\n",
       "  <thead>\n",
       "    <tr style=\"text-align: right;\">\n",
       "      <th></th>\n",
       "      <th>dummyregressor</th>\n",
       "      <th>ridge</th>\n",
       "      <th>randomforest</th>\n",
       "    </tr>\n",
       "  </thead>\n",
       "  <tbody>\n",
       "    <tr>\n",
       "      <th>fit_time</th>\n",
       "      <td>0.025926</td>\n",
       "      <td>0.027457</td>\n",
       "      <td>2.637173</td>\n",
       "    </tr>\n",
       "    <tr>\n",
       "      <th>score_time</th>\n",
       "      <td>0.017672</td>\n",
       "      <td>0.010495</td>\n",
       "      <td>0.038459</td>\n",
       "    </tr>\n",
       "    <tr>\n",
       "      <th>test_neg_mean_squared_error</th>\n",
       "      <td>-0.789925</td>\n",
       "      <td>-0.579467</td>\n",
       "      <td>-0.393573</td>\n",
       "    </tr>\n",
       "    <tr>\n",
       "      <th>train_neg_mean_squared_error</th>\n",
       "      <td>-0.789685</td>\n",
       "      <td>-0.568744</td>\n",
       "      <td>-0.055570</td>\n",
       "    </tr>\n",
       "    <tr>\n",
       "      <th>test_neg_root_mean_square</th>\n",
       "      <td>-0.888473</td>\n",
       "      <td>-0.761035</td>\n",
       "      <td>-0.627022</td>\n",
       "    </tr>\n",
       "    <tr>\n",
       "      <th>train_neg_root_mean_square</th>\n",
       "      <td>-0.888624</td>\n",
       "      <td>-0.754138</td>\n",
       "      <td>-0.235732</td>\n",
       "    </tr>\n",
       "    <tr>\n",
       "      <th>test_neg_mean_absolute_error</th>\n",
       "      <td>-0.676655</td>\n",
       "      <td>-0.590999</td>\n",
       "      <td>-0.456513</td>\n",
       "    </tr>\n",
       "    <tr>\n",
       "      <th>train_neg_mean_absolute_error</th>\n",
       "      <td>-0.676591</td>\n",
       "      <td>-0.587174</td>\n",
       "      <td>-0.170395</td>\n",
       "    </tr>\n",
       "    <tr>\n",
       "      <th>test_r2</th>\n",
       "      <td>-0.000760</td>\n",
       "      <td>0.265500</td>\n",
       "      <td>0.501402</td>\n",
       "    </tr>\n",
       "    <tr>\n",
       "      <th>train_r2</th>\n",
       "      <td>0.000000</td>\n",
       "      <td>0.279763</td>\n",
       "      <td>0.929621</td>\n",
       "    </tr>\n",
       "  </tbody>\n",
       "</table>\n",
       "</div>"
      ],
      "text/plain": [
       "                               dummyregressor     ridge  randomforest\n",
       "fit_time                             0.025926  0.027457      2.637173\n",
       "score_time                           0.017672  0.010495      0.038459\n",
       "test_neg_mean_squared_error         -0.789925 -0.579467     -0.393573\n",
       "train_neg_mean_squared_error        -0.789685 -0.568744     -0.055570\n",
       "test_neg_root_mean_square           -0.888473 -0.761035     -0.627022\n",
       "train_neg_root_mean_square          -0.888624 -0.754138     -0.235732\n",
       "test_neg_mean_absolute_error        -0.676655 -0.590999     -0.456513\n",
       "train_neg_mean_absolute_error       -0.676591 -0.587174     -0.170395\n",
       "test_r2                             -0.000760  0.265500      0.501402\n",
       "train_r2                             0.000000  0.279763      0.929621"
      ]
     },
     "execution_count": 8,
     "metadata": {},
     "output_type": "execute_result"
    }
   ],
   "source": [
    "pd.DataFrame(results_dict)"
   ]
  },
  {
   "cell_type": "markdown",
   "metadata": {},
   "source": [
    "We chose `DummyRegressor` as the baseline here. `Ridge` and `RandomForestRegressor` all preform better than the base line `DummyRegressor`. Moreover, we observe that `RandomForestRegressor` seems to be a better model by comparing `Ridge` since we got bigger negative mean squared error, bigger negative root mean squared error, bigger negative mean absolute error and bigger r2 score in the `RandomForestRegressor` model. Therefore, for predicting the test set, we will use `RandomForestRegressor` model, but we still need to investigate more in the future."
   ]
  },
  {
   "cell_type": "markdown",
   "metadata": {},
   "source": [
    "# Hyperparameter optimazation with RandomForestRegressor"
   ]
  },
  {
   "cell_type": "code",
   "execution_count": 9,
   "metadata": {},
   "outputs": [],
   "source": [
    "pipe_randomforest = make_pipeline(preprocessor, RandomForestRegressor(random_state=2020))\n",
    "\n",
    "param_grid = {\n",
    "    \"randomforestregressor__n_estimators\": [10, 50, 100, 150, 200, 250, 300],\n",
    "    \"randomforestregressor__max_depth\": [3,5,7, 10]\n",
    "}\n",
    "\n",
    "random_search = RandomizedSearchCV(\n",
    "    pipe_randomforest, \n",
    "    param_distributions=param_grid,\n",
    "    n_iter=28,\n",
    "    cv=3,\n",
    "    n_jobs=-1,\n",
    "    random_state=2020\n",
    ")\n",
    "\n",
    "\n"
   ]
  },
  {
   "cell_type": "code",
   "execution_count": 10,
   "metadata": {},
   "outputs": [
    {
     "data": {
      "text/plain": [
       "RandomizedSearchCV(cv=3,\n",
       "                   estimator=Pipeline(steps=[('columntransformer',\n",
       "                                              ColumnTransformer(transformers=[('num',\n",
       "                                                                               Pipeline(steps=[('standardscaler',\n",
       "                                                                                                StandardScaler())]),\n",
       "                                                                               ['fixed '\n",
       "                                                                                'acidity',\n",
       "                                                                                'volatile '\n",
       "                                                                                'acidity',\n",
       "                                                                                'citric '\n",
       "                                                                                'acid',\n",
       "                                                                                'residual '\n",
       "                                                                                'sugar',\n",
       "                                                                                'chlorides',\n",
       "                                                                                'free '\n",
       "                                                                                'sulfur '\n",
       "                                                                                'dioxide',\n",
       "                                                                                'total '\n",
       "                                                                                'sulfur '\n",
       "                                                                                'dioxide',\n",
       "                                                                                'density',\n",
       "                                                                                'pH',\n",
       "                                                                                'sulphates',\n",
       "                                                                                'alcohol'])])),\n",
       "                                             ('randomforestregressor',\n",
       "                                              RandomForestRegressor(random_state=2020))]),\n",
       "                   n_iter=28, n_jobs=-1,\n",
       "                   param_distributions={'randomforestregressor__max_depth': [3,\n",
       "                                                                             5,\n",
       "                                                                             7,\n",
       "                                                                             10],\n",
       "                                        'randomforestregressor__n_estimators': [10,\n",
       "                                                                                50,\n",
       "                                                                                100,\n",
       "                                                                                150,\n",
       "                                                                                200,\n",
       "                                                                                250,\n",
       "                                                                                300]},\n",
       "                   random_state=2020)"
      ]
     },
     "execution_count": 10,
     "metadata": {},
     "output_type": "execute_result"
    }
   ],
   "source": [
    "random_search.fit(X_train, y_train)"
   ]
  },
  {
   "cell_type": "code",
   "execution_count": 11,
   "metadata": {},
   "outputs": [
    {
     "data": {
      "text/plain": [
       "{'randomforestregressor__n_estimators': 300,\n",
       " 'randomforestregressor__max_depth': 10}"
      ]
     },
     "execution_count": 11,
     "metadata": {},
     "output_type": "execute_result"
    }
   ],
   "source": [
    "random_search.best_params_"
   ]
  },
  {
   "cell_type": "markdown",
   "metadata": {},
   "source": [
    "# Final results by using RandomForestRegressor"
   ]
  },
  {
   "cell_type": "code",
   "execution_count": 12,
   "metadata": {},
   "outputs": [
    {
     "name": "stdout",
     "output_type": "stream",
     "text": [
      "Random Search best model score: 0.43738839475956953\n",
      "Train score on the train set: 0.7260837603778569\n",
      "Test score on the test set: 0.4311472751504126\n"
     ]
    }
   ],
   "source": [
    "print(\"Random Search best model score: \" + str(random_search.best_score_))\n",
    "print(\"Train score on the train set: \" + str(random_search.score(X_train, y_train)))\n",
    "print(\"Test score on the test set: \" + str(random_search.score(X_test, y_test)))"
   ]
  },
  {
   "cell_type": "markdown",
   "metadata": {},
   "source": [
    "From above, we can see that the final test score is around 0.4311 which seems to be not reasonable here. Therefore, `RandomForestregressor` may not be a good model to use here. However, we can find other models to improve our test scores."
   ]
  },
  {
   "cell_type": "markdown",
   "metadata": {},
   "source": [
    "# A bar chart of feature importances"
   ]
  },
  {
   "cell_type": "code",
   "execution_count": 13,
   "metadata": {},
   "outputs": [
    {
     "data": {
      "text/plain": [
       "Pipeline(steps=[('columntransformer',\n",
       "                 ColumnTransformer(transformers=[('num',\n",
       "                                                  Pipeline(steps=[('standardscaler',\n",
       "                                                                   StandardScaler())]),\n",
       "                                                  ['fixed acidity',\n",
       "                                                   'volatile acidity',\n",
       "                                                   'citric acid',\n",
       "                                                   'residual sugar',\n",
       "                                                   'chlorides',\n",
       "                                                   'free sulfur dioxide',\n",
       "                                                   'total sulfur dioxide',\n",
       "                                                   'density', 'pH', 'sulphates',\n",
       "                                                   'alcohol'])])),\n",
       "                ('randomforestregressor',\n",
       "                 RandomForestRegressor(max_depth=10, n_estimators=300,\n",
       "                                       random_state=2020))])"
      ]
     },
     "execution_count": 13,
     "metadata": {},
     "output_type": "execute_result"
    }
   ],
   "source": [
    "random_search.best_estimator_\n"
   ]
  },
  {
   "cell_type": "code",
   "execution_count": 14,
   "metadata": {},
   "outputs": [],
   "source": [
    "importance = random_search.best_estimator_.named_steps[\"randomforestregressor\"].feature_importances_\n",
    "\n"
   ]
  },
  {
   "cell_type": "code",
   "execution_count": 15,
   "metadata": {},
   "outputs": [],
   "source": [
    "df = pd.DataFrame(\n",
    "    {\n",
    "        \"target_feats\": X_train.columns,\n",
    "        \"target_weights\": importance.transpose()\n",
    "    })\n"
   ]
  },
  {
   "cell_type": "code",
   "execution_count": 16,
   "metadata": {},
   "outputs": [
    {
     "data": {
      "text/html": [
       "\n",
       "<div id=\"altair-viz-3c0e540f8b9040279c662d4a7c24cb54\"></div>\n",
       "<script type=\"text/javascript\">\n",
       "  (function(spec, embedOpt){\n",
       "    let outputDiv = document.currentScript.previousElementSibling;\n",
       "    if (outputDiv.id !== \"altair-viz-3c0e540f8b9040279c662d4a7c24cb54\") {\n",
       "      outputDiv = document.getElementById(\"altair-viz-3c0e540f8b9040279c662d4a7c24cb54\");\n",
       "    }\n",
       "    const paths = {\n",
       "      \"vega\": \"https://cdn.jsdelivr.net/npm//vega@5?noext\",\n",
       "      \"vega-lib\": \"https://cdn.jsdelivr.net/npm//vega-lib?noext\",\n",
       "      \"vega-lite\": \"https://cdn.jsdelivr.net/npm//vega-lite@4.8.1?noext\",\n",
       "      \"vega-embed\": \"https://cdn.jsdelivr.net/npm//vega-embed@6?noext\",\n",
       "    };\n",
       "\n",
       "    function loadScript(lib) {\n",
       "      return new Promise(function(resolve, reject) {\n",
       "        var s = document.createElement('script');\n",
       "        s.src = paths[lib];\n",
       "        s.async = true;\n",
       "        s.onload = () => resolve(paths[lib]);\n",
       "        s.onerror = () => reject(`Error loading script: ${paths[lib]}`);\n",
       "        document.getElementsByTagName(\"head\")[0].appendChild(s);\n",
       "      });\n",
       "    }\n",
       "\n",
       "    function showError(err) {\n",
       "      outputDiv.innerHTML = `<div class=\"error\" style=\"color:red;\">${err}</div>`;\n",
       "      throw err;\n",
       "    }\n",
       "\n",
       "    function displayChart(vegaEmbed) {\n",
       "      vegaEmbed(outputDiv, spec, embedOpt)\n",
       "        .catch(err => showError(`Javascript Error: ${err.message}<br>This usually means there's a typo in your chart specification. See the javascript console for the full traceback.`));\n",
       "    }\n",
       "\n",
       "    if(typeof define === \"function\" && define.amd) {\n",
       "      requirejs.config({paths});\n",
       "      require([\"vega-embed\"], displayChart, err => showError(`Error loading script: ${err.message}`));\n",
       "    } else if (typeof vegaEmbed === \"function\") {\n",
       "      displayChart(vegaEmbed);\n",
       "    } else {\n",
       "      loadScript(\"vega\")\n",
       "        .then(() => loadScript(\"vega-lite\"))\n",
       "        .then(() => loadScript(\"vega-embed\"))\n",
       "        .catch(showError)\n",
       "        .then(() => displayChart(vegaEmbed));\n",
       "    }\n",
       "  })({\"config\": {\"view\": {\"continuousWidth\": 400, \"continuousHeight\": 300}, \"axis\": {\"labelFontSize\": 16}}, \"data\": {\"name\": \"data-49f9d244acf680497df94d51f36fd12c\"}, \"mark\": \"bar\", \"encoding\": {\"x\": {\"type\": \"nominal\", \"field\": \"target_feats\", \"sort\": \"-y\", \"title\": \"target features\"}, \"y\": {\"type\": \"quantitative\", \"field\": \"target_weights\", \"title\": \"target weights\"}}, \"height\": 400, \"width\": 400, \"$schema\": \"https://vega.github.io/schema/vega-lite/v4.8.1.json\", \"datasets\": {\"data-49f9d244acf680497df94d51f36fd12c\": [{\"target_feats\": \"fixed acidity\", \"target_weights\": 0.051962759051082004}, {\"target_feats\": \"volatile acidity\", \"target_weights\": 0.14331597793434794}, {\"target_feats\": \"citric acid\", \"target_weights\": 0.04482718899971739}, {\"target_feats\": \"residual sugar\", \"target_weights\": 0.06005768670264204}, {\"target_feats\": \"chlorides\", \"target_weights\": 0.0506852372870888}, {\"target_feats\": \"free sulfur dioxide\", \"target_weights\": 0.1378423689629226}, {\"target_feats\": \"total sulfur dioxide\", \"target_weights\": 0.053649033852753616}, {\"target_feats\": \"density\", \"target_weights\": 0.04306880126356381}, {\"target_feats\": \"pH\", \"target_weights\": 0.060834295493268645}, {\"target_feats\": \"sulphates\", \"target_weights\": 0.048503501335554894}, {\"target_feats\": \"alcohol\", \"target_weights\": 0.30525314911705836}]}}, {\"mode\": \"vega-lite\"});\n",
       "</script>"
      ],
      "text/plain": [
       "alt.Chart(...)"
      ]
     },
     "execution_count": 16,
     "metadata": {},
     "output_type": "execute_result"
    }
   ],
   "source": [
    "alt.Chart(df).mark_bar().encode(x = alt.X(\"target_feats\", sort = '-y', title = \"target features\"),\n",
    "                                y = alt.Y(\"target_weights\", title = \"target weights\")\n",
    "                               ).properties(width = 400, height = 400\n",
    "                                           ).configure_axis(labelFontSize = 16\n",
    ")"
   ]
  }
 ],
 "metadata": {
  "kernelspec": {
   "display_name": "Python [conda env:573]",
   "language": "python",
   "name": "conda-env-573-py"
  },
  "language_info": {
   "codemirror_mode": {
    "name": "ipython",
    "version": 3
   },
   "file_extension": ".py",
   "mimetype": "text/x-python",
   "name": "python",
   "nbconvert_exporter": "python",
   "pygments_lexer": "ipython3",
   "version": "3.8.6"
  }
 },
 "nbformat": 4,
 "nbformat_minor": 4
}
